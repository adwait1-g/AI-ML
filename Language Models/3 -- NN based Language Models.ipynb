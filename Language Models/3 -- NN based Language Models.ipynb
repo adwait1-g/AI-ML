{
  "nbformat": 4,
  "nbformat_minor": 0,
  "metadata": {
    "colab": {
      "provenance": []
    },
    "kernelspec": {
      "name": "python3",
      "display_name": "Python 3"
    },
    "language_info": {
      "name": "python"
    }
  },
  "cells": [
    {
      "cell_type": "code",
      "execution_count": null,
      "metadata": {
        "id": "Pi_RXHWT4wsC"
      },
      "outputs": [],
      "source": [
        "import torch\n",
        "import torch.nn.functional as F\n",
        "import matplotlib.pyplot as plt\n",
        "%matplotlib inline"
      ]
    },
    {
      "cell_type": "code",
      "source": [
        "# Get the words\n",
        "words = open('/content/names.txt', 'r').read().splitlines()\n",
        "words[:8]"
      ],
      "metadata": {
        "colab": {
          "base_uri": "https://localhost:8080/"
        },
        "id": "Fn2jU47mBN_a",
        "outputId": "df3b0ef1-dd10-496d-c329-baedea1d233d"
      },
      "execution_count": null,
      "outputs": [
        {
          "output_type": "execute_result",
          "data": {
            "text/plain": [
              "['emma', 'olivia', 'ava', 'isabella', 'sophia', 'charlotte', 'mia', 'amelia']"
            ]
          },
          "metadata": {},
          "execution_count": 627
        }
      ]
    },
    {
      "cell_type": "code",
      "source": [
        "len(words)"
      ],
      "metadata": {
        "colab": {
          "base_uri": "https://localhost:8080/"
        },
        "id": "2nYVwpNBBTya",
        "outputId": "b1a6c279-80e0-4186-e862-de172162cf95"
      },
      "execution_count": null,
      "outputs": [
        {
          "output_type": "execute_result",
          "data": {
            "text/plain": [
              "32033"
            ]
          },
          "metadata": {},
          "execution_count": 628
        }
      ]
    },
    {
      "cell_type": "code",
      "source": [
        "# Mappings to and from integers\n",
        "chars = sorted(list(set(''.join(words))))\n",
        "stoi = {s:i+1 for i,s in enumerate(chars)}\n",
        "stoi['.'] = 0\n",
        "itos = {i:s for s,i in stoi.items()}\n",
        "print(itos)"
      ],
      "metadata": {
        "colab": {
          "base_uri": "https://localhost:8080/"
        },
        "id": "DrvKScV0Ca5c",
        "outputId": "9ede37ae-25c6-40e4-c8d2-9f54b22932d5"
      },
      "execution_count": null,
      "outputs": [
        {
          "output_type": "stream",
          "name": "stdout",
          "text": [
            "{1: 'a', 2: 'b', 3: 'c', 4: 'd', 5: 'e', 6: 'f', 7: 'g', 8: 'h', 9: 'i', 10: 'j', 11: 'k', 12: 'l', 13: 'm', 14: 'n', 15: 'o', 16: 'p', 17: 'q', 18: 'r', 19: 's', 20: 't', 21: 'u', 22: 'v', 23: 'w', 24: 'x', 25: 'y', 26: 'z', 0: '.'}\n"
          ]
        }
      ]
    },
    {
      "cell_type": "code",
      "source": [
        "# Use words to build the dataset\n",
        "\n",
        "block_size = 3  # Context Length\n",
        "X, Y = [], []\n",
        "for w in words:\n",
        "  # print(w)\n",
        "  context = [0] * block_size\n",
        "  for ch in w + '.':\n",
        "    ix = stoi[ch]\n",
        "    X.append(context)\n",
        "    Y.append(ix)\n",
        "    #print(''.join(itos[i] for i in context), '----->', itos[ix])\n",
        "    context = context[1:] + [ix]  # crop and append\n",
        "\n",
        "X = torch.tensor(X)\n",
        "Y = torch.tensor(Y)"
      ],
      "metadata": {
        "id": "fBnjHC6JBxAQ"
      },
      "execution_count": null,
      "outputs": []
    },
    {
      "cell_type": "code",
      "source": [
        "# Build the dataset\n",
        "\n",
        "def build_dataset(words):\n",
        "  block_size =3 # Context length\n",
        "  X, Y = [], []\n",
        "\n",
        "  for w in words:\n",
        "    context = [0] * block_size\n",
        "    for ch in w + '.':\n",
        "      ix = stoi[ch]\n",
        "      X.append(context)\n",
        "      Y.append(ix)\n",
        "      context = context[1:] + [ix]\n",
        "\n",
        "  X = torch.tensor(X)\n",
        "  Y = torch.tensor(Y)\n",
        "  print(X.shape, Y.shape)\n",
        "  return X, Y\n",
        "\n",
        "import random\n",
        "random.seed(42)\n",
        "n1 = int(0.8 * len(words))\n",
        "n2 = int(0.9 * len(words))\n",
        "\n",
        "Xtr, Ytr = build_dataset(words[:n1])\n",
        "Xdev, Ydev = build_dataset(words[n1:n2])\n",
        "Xte, Yte = build_dataset(words[n2:])"
      ],
      "metadata": {
        "colab": {
          "base_uri": "https://localhost:8080/"
        },
        "id": "hygqO0iZd64P",
        "outputId": "491c288a-0094-4738-963c-0b7928bc8c98"
      },
      "execution_count": null,
      "outputs": [
        {
          "output_type": "stream",
          "name": "stdout",
          "text": [
            "torch.Size([182778, 3]) torch.Size([182778])\n",
            "torch.Size([22633, 3]) torch.Size([22633])\n",
            "torch.Size([22735, 3]) torch.Size([22735])\n"
          ]
        }
      ]
    },
    {
      "cell_type": "code",
      "source": [
        "X.shape, X.dtype, Y.shape, Y.dtype"
      ],
      "metadata": {
        "colab": {
          "base_uri": "https://localhost:8080/"
        },
        "id": "gUWp8XoHD8Am",
        "outputId": "bdf9b6f6-8aa0-40ab-ebcf-9cf5dce7ff50"
      },
      "execution_count": null,
      "outputs": [
        {
          "output_type": "execute_result",
          "data": {
            "text/plain": [
              "(torch.Size([228146, 3]), torch.int64, torch.Size([228146]), torch.int64)"
            ]
          },
          "metadata": {},
          "execution_count": 632
        }
      ]
    },
    {
      "cell_type": "code",
      "source": [
        "Xtr.shape, Ytr.shape"
      ],
      "metadata": {
        "colab": {
          "base_uri": "https://localhost:8080/"
        },
        "id": "wJUqyO9IeAlB",
        "outputId": "dfec8561-4283-4484-eb66-bce8ec6aefe2"
      },
      "execution_count": null,
      "outputs": [
        {
          "output_type": "execute_result",
          "data": {
            "text/plain": [
              "(torch.Size([182778, 3]), torch.Size([182778]))"
            ]
          },
          "metadata": {},
          "execution_count": 633
        }
      ]
    },
    {
      "cell_type": "code",
      "source": [
        "# In the paper, 17000 words are represented using a 30-D space.\n",
        "# We have just 27 characters. AK starts with using a simple 2-D space to\n",
        "# represent them.\n",
        "\n",
        "C = torch.randn((27, 2))\n",
        "C"
      ],
      "metadata": {
        "colab": {
          "base_uri": "https://localhost:8080/"
        },
        "id": "lSiH0yIYEBhe",
        "outputId": "9f5408c0-e80e-4f21-8fed-69fab1a6ca92"
      },
      "execution_count": null,
      "outputs": [
        {
          "output_type": "execute_result",
          "data": {
            "text/plain": [
              "tensor([[ 0.5242,  0.3471],\n",
              "        [-0.3751,  1.6128],\n",
              "        [-1.4869, -0.2282],\n",
              "        [ 1.3098, -3.4718],\n",
              "        [-1.9895, -0.5846],\n",
              "        [ 0.0137,  1.6675],\n",
              "        [-0.8425,  1.0123],\n",
              "        [ 0.3527, -0.3026],\n",
              "        [ 1.4915, -1.0367],\n",
              "        [ 0.2906, -1.6479],\n",
              "        [-1.0943, -0.7677],\n",
              "        [ 0.6069, -0.5038],\n",
              "        [-0.8228, -0.1877],\n",
              "        [-0.6535, -0.3282],\n",
              "        [-2.1642, -1.0815],\n",
              "        [-0.3118,  0.8647],\n",
              "        [-1.9874, -1.0364],\n",
              "        [ 0.3282, -1.6353],\n",
              "        [-0.8019,  0.2097],\n",
              "        [-1.1787,  0.1889],\n",
              "        [ 0.1537,  0.5801],\n",
              "        [-0.1622,  1.4642],\n",
              "        [-1.3799, -3.0600],\n",
              "        [-0.0437,  1.3423],\n",
              "        [-0.5259, -1.5664],\n",
              "        [ 0.2382, -1.3025],\n",
              "        [-2.5795, -0.9315]])"
            ]
          },
          "metadata": {},
          "execution_count": 634
        }
      ]
    },
    {
      "cell_type": "code",
      "source": [
        "# 2-D representation of the 5th input sample\n",
        "C[5]"
      ],
      "metadata": {
        "colab": {
          "base_uri": "https://localhost:8080/"
        },
        "id": "UxsMtOhlE6or",
        "outputId": "2058499c-bc0d-496c-fbe3-1b7fb3614e94"
      },
      "execution_count": null,
      "outputs": [
        {
          "output_type": "execute_result",
          "data": {
            "text/plain": [
              "tensor([0.0137, 1.6675])"
            ]
          },
          "metadata": {},
          "execution_count": 635
        }
      ]
    },
    {
      "cell_type": "code",
      "source": [
        "# We could get the embedding either like that\n",
        "# or use the dot-product of the one-hot encoding of the input sample\n",
        "# and the embedding space.\n",
        "F.one_hot(torch.tensor(5), num_classes=27).float() @ C"
      ],
      "metadata": {
        "colab": {
          "base_uri": "https://localhost:8080/"
        },
        "id": "MqdlVvcXHU_E",
        "outputId": "eac3ba45-c4de-4937-c162-13198350ae8d"
      },
      "execution_count": null,
      "outputs": [
        {
          "output_type": "execute_result",
          "data": {
            "text/plain": [
              "tensor([0.0137, 1.6675])"
            ]
          },
          "metadata": {},
          "execution_count": 636
        }
      ]
    },
    {
      "cell_type": "code",
      "source": [
        "# A character has a 2-D representation.\n",
        "# How does the embedding of a context (made of 3 characters) look like?\n",
        "# Is it simply a concatenation of the 3 2-D embeddings? (essentially a 1 x 6 tensor)\n",
        "C[torch.tensor([5, 6, 7])]"
      ],
      "metadata": {
        "colab": {
          "base_uri": "https://localhost:8080/"
        },
        "id": "zZOBkdRGIHBx",
        "outputId": "bbb3fb89-24a5-453d-b4e9-e89a693e5a26"
      },
      "execution_count": null,
      "outputs": [
        {
          "output_type": "execute_result",
          "data": {
            "text/plain": [
              "tensor([[ 0.0137,  1.6675],\n",
              "        [-0.8425,  1.0123],\n",
              "        [ 0.3527, -0.3026]])"
            ]
          },
          "metadata": {},
          "execution_count": 637
        }
      ]
    },
    {
      "cell_type": "code",
      "source": [
        "# For every one of the 32 input samples, we have a 3x2 embedding\n",
        "# That is what C[X] gives us.\n",
        "C[X].shape"
      ],
      "metadata": {
        "colab": {
          "base_uri": "https://localhost:8080/"
        },
        "id": "ryDRSR_wJvwr",
        "outputId": "22c54975-6f52-4a8a-8ba4-8cda2c2c6eb1"
      },
      "execution_count": null,
      "outputs": [
        {
          "output_type": "execute_result",
          "data": {
            "text/plain": [
              "torch.Size([228146, 3, 2])"
            ]
          },
          "metadata": {},
          "execution_count": 638
        }
      ]
    },
    {
      "cell_type": "code",
      "source": [
        "emb = C[X]\n",
        "emb.shape"
      ],
      "metadata": {
        "colab": {
          "base_uri": "https://localhost:8080/"
        },
        "id": "tJIl40pHKy3E",
        "outputId": "07d34f85-3802-4b37-933b-133fabc40432"
      },
      "execution_count": null,
      "outputs": [
        {
          "output_type": "execute_result",
          "data": {
            "text/plain": [
              "torch.Size([228146, 3, 2])"
            ]
          },
          "metadata": {},
          "execution_count": 639
        }
      ]
    },
    {
      "cell_type": "code",
      "source": [
        "# The above was the first layer\n",
        "\n",
        "# First hidden layer\n",
        "# We decided to go with 100 neurons in this layer.\n",
        "# Each neuron has 6 inputs, so 6 weights making it 6 x 100\n",
        "W1 = torch.randn((6, 100))\n",
        "\n",
        "# Each neuron has a bias, so b1 is 1 x 100 in size.\n",
        "b1 = torch.randn((100))"
      ],
      "metadata": {
        "id": "bqNZNLB7LDtl"
      },
      "execution_count": null,
      "outputs": []
    },
    {
      "cell_type": "code",
      "source": [
        "# To find the activation, we generally take the dot-product between\n",
        "# emb and W and add b1. Essentially, something like emb @ W1 + b1\n",
        "# But it should be noted that emb is of the dimensions 32 x 3 x 2, and\n",
        "# dimensions of W1 is 6 x 100. So, they are not compatible for a dot-product.\n",
        "#\n",
        "# Essentially, what we need is each of the 32 input samples should have a\n",
        "# 1 x 6 embedding. So, if emb (32 x 3 x 2) can somehow be represented as\n",
        "# a (32 x 6), we are good to go. The 3 x 2 matrix needs to be squashed into a\n",
        "# simple 1 x 6 matrix.\n",
        "#\n",
        "# What are the best ways to do it in torch? AK gives a number of approaches, 19:40\n",
        "#\n",
        "# Intuitively, the 3 x 2 matrix needs to be concatenated resulting in a 1 x 6 matrix."
      ],
      "metadata": {
        "id": "OX85SmrtLye2"
      },
      "execution_count": null,
      "outputs": []
    },
    {
      "cell_type": "code",
      "source": [
        "# PyTorch Internals by Edward Z. Yang: https://blog.ezyang.com/2019/05/pytorch-internals/"
      ],
      "metadata": {
        "id": "zjMsZkSxOvL7"
      },
      "execution_count": null,
      "outputs": []
    },
    {
      "cell_type": "code",
      "source": [
        "emb.view(emb.shape[0], 6)     # Does exactly what we want, in a very efficient way"
      ],
      "metadata": {
        "colab": {
          "base_uri": "https://localhost:8080/"
        },
        "id": "T4RahUNBPlm1",
        "outputId": "e1f314b2-5f1f-4868-cc02-7caa6b7f465e"
      },
      "execution_count": null,
      "outputs": [
        {
          "output_type": "execute_result",
          "data": {
            "text/plain": [
              "tensor([[ 0.5242,  0.3471,  0.5242,  0.3471,  0.5242,  0.3471],\n",
              "        [ 0.5242,  0.3471,  0.5242,  0.3471,  0.0137,  1.6675],\n",
              "        [ 0.5242,  0.3471,  0.0137,  1.6675, -0.6535, -0.3282],\n",
              "        ...,\n",
              "        [-2.5795, -0.9315, -2.5795, -0.9315,  0.2382, -1.3025],\n",
              "        [-2.5795, -0.9315,  0.2382, -1.3025, -2.5795, -0.9315],\n",
              "        [ 0.2382, -1.3025, -2.5795, -0.9315, -0.5259, -1.5664]])"
            ]
          },
          "metadata": {},
          "execution_count": 643
        }
      ]
    },
    {
      "cell_type": "code",
      "source": [
        "# Continuing with our dot product for activation\n",
        "h = torch.tanh(emb.view(emb.shape[0], 6) @ W1 + b1) # The addition of b1 is enabled through broadcasting."
      ],
      "metadata": {
        "id": "POTwybL7P50h"
      },
      "execution_count": null,
      "outputs": []
    },
    {
      "cell_type": "code",
      "source": [
        "h.shape\n",
        "\n",
        "# We have 100 activations(one for each neuron) for each of the 32 input samples."
      ],
      "metadata": {
        "colab": {
          "base_uri": "https://localhost:8080/"
        },
        "id": "cJgZXJiaQLD4",
        "outputId": "c4ce8364-8c98-4ff3-bf14-91a0911f3f1d"
      },
      "execution_count": null,
      "outputs": [
        {
          "output_type": "execute_result",
          "data": {
            "text/plain": [
              "torch.Size([228146, 100])"
            ]
          },
          "metadata": {},
          "execution_count": 645
        }
      ]
    },
    {
      "cell_type": "code",
      "source": [
        "# Final Layer\n",
        "W2 = torch.randn((100, 27))\n",
        "b2 = torch.randn(27)"
      ],
      "metadata": {
        "id": "tyIsfh3EQhcA"
      },
      "execution_count": null,
      "outputs": []
    },
    {
      "cell_type": "code",
      "source": [
        "logits = h @ W2 + b2\n",
        "logits.shape"
      ],
      "metadata": {
        "colab": {
          "base_uri": "https://localhost:8080/"
        },
        "id": "KEQc_CmRQyb3",
        "outputId": "a66dbc1c-f855-4a21-c385-de317b63bb1d"
      },
      "execution_count": null,
      "outputs": [
        {
          "output_type": "execute_result",
          "data": {
            "text/plain": [
              "torch.Size([228146, 27])"
            ]
          },
          "metadata": {},
          "execution_count": 647
        }
      ]
    },
    {
      "cell_type": "code",
      "source": [
        "# Softmax\n",
        "counts = logits.exp()\n",
        "prob = counts / counts.sum(1, keepdims=True)"
      ],
      "metadata": {
        "id": "A8kYM2OdQ26o"
      },
      "execution_count": null,
      "outputs": []
    },
    {
      "cell_type": "code",
      "source": [
        "prob.shape\n",
        "\n",
        "# We now have the outputs of the neural network"
      ],
      "metadata": {
        "colab": {
          "base_uri": "https://localhost:8080/"
        },
        "id": "yJ_L_GCVQ95I",
        "outputId": "1e91e3a2-e068-46e1-c16b-f1e6b648e54b"
      },
      "execution_count": null,
      "outputs": [
        {
          "output_type": "execute_result",
          "data": {
            "text/plain": [
              "torch.Size([228146, 27])"
            ]
          },
          "metadata": {},
          "execution_count": 649
        }
      ]
    },
    {
      "cell_type": "code",
      "source": [
        "# Find the loss function (Mean Negative Log Likelihood)\n",
        "#loss = -prob[torch.arange(32), Y].log().mean()\n",
        "#loss"
      ],
      "metadata": {
        "id": "Bg6MAfPCREvz"
      },
      "execution_count": null,
      "outputs": []
    },
    {
      "cell_type": "code",
      "source": [
        "# Putting everything together\n",
        "X.shape, Y.shape"
      ],
      "metadata": {
        "colab": {
          "base_uri": "https://localhost:8080/"
        },
        "id": "EX1hAlLpRio9",
        "outputId": "8b5af6da-4dc4-4664-da7f-fd1499087e7f"
      },
      "execution_count": null,
      "outputs": [
        {
          "output_type": "execute_result",
          "data": {
            "text/plain": [
              "(torch.Size([228146, 3]), torch.Size([228146]))"
            ]
          },
          "metadata": {},
          "execution_count": 651
        }
      ]
    },
    {
      "cell_type": "code",
      "source": [
        "# Model Construction\n",
        "g = torch.Generator().manual_seed(2147483647)\n",
        "\n",
        "# Embeddings\n",
        "C = torch.randn((27, 10), generator=g)\n",
        "\n",
        "# L1: Hidden Layer\n",
        "W1 = torch.randn((30, 200), generator=g)\n",
        "b1 = torch.randn(200, generator=g)\n",
        "\n",
        "# L2: Output Layer\n",
        "W2 = torch.randn((200, 27), generator=g)\n",
        "b2 = torch.randn(27, generator=g)\n",
        "\n",
        "parameters = [C, W1, b1, W2, b2]"
      ],
      "metadata": {
        "id": "nOtzLWrGR05J"
      },
      "execution_count": null,
      "outputs": []
    },
    {
      "cell_type": "code",
      "source": [
        "sum(p.nelement() for p in parameters)"
      ],
      "metadata": {
        "colab": {
          "base_uri": "https://localhost:8080/"
        },
        "id": "SEkLPlgLSGT0",
        "outputId": "2db41297-8e12-4bbe-b910-dd5d15e2cb82"
      },
      "execution_count": null,
      "outputs": [
        {
          "output_type": "execute_result",
          "data": {
            "text/plain": [
              "11897"
            ]
          },
          "metadata": {},
          "execution_count": 653
        }
      ]
    },
    {
      "cell_type": "code",
      "source": [
        "for p in parameters:\n",
        "  p.requires_grad = True"
      ],
      "metadata": {
        "id": "8cUfzGmcUSsl"
      },
      "execution_count": null,
      "outputs": []
    },
    {
      "cell_type": "code",
      "source": [
        "# for _ in range(1000):\n",
        "\n",
        "#   # Forward Pass\n",
        "#   emb = C[X]    # (32, 3, 2)\n",
        "#   embcat = emb.view(-1, 6)  # (32, 6)\n",
        "#   h = torch.tanh(embcat @ W1 + b1)\n",
        "#   logits = h @ W2 + b2\n",
        "#   loss = F.cross_entropy(logits, Y)\n",
        "#   print(loss.item())\n",
        "\n",
        "#   # Backward Pass\n",
        "#   for p in parameters:\n",
        "#     p.grad = None\n",
        "\n",
        "#   loss.backward()\n",
        "\n",
        "#   # Update\n",
        "#   for p in parameters:\n",
        "#     p.data += -0.1 * p.grad"
      ],
      "metadata": {
        "id": "fMUYup1gSJaC"
      },
      "execution_count": null,
      "outputs": []
    },
    {
      "cell_type": "code",
      "source": [
        "# # Finding the right learning rate\n",
        "# lre = torch.linspace(-3, 0, 1000)\n",
        "# lrs = 10**lre\n",
        "# lrs\n",
        "lri = []\n",
        "lossi = []\n",
        "stepi = []"
      ],
      "metadata": {
        "id": "Nc9Bh4VkZU58"
      },
      "execution_count": null,
      "outputs": []
    },
    {
      "cell_type": "code",
      "source": [
        "for i in range(200000):\n",
        "\n",
        "  # Create a batch\n",
        "  ix = torch.randint(0, Xtr.shape[0], (32,))\n",
        "\n",
        "  # Forward Pass\n",
        "  emb = C[X[ix]]    # (32, 3, 2)\n",
        "  embcat = emb.view(-1, 30)  # (32, 6)\n",
        "  h = torch.tanh(embcat @ W1 + b1)\n",
        "  logits = h @ W2 + b2\n",
        "  loss = F.cross_entropy(logits, Ytr[ix])\n",
        "  # print(loss.item())\n",
        "\n",
        "  # Backward Pass\n",
        "  for p in parameters:\n",
        "    p.grad = None\n",
        "\n",
        "  loss.backward()\n",
        "\n",
        "  # Update\n",
        "  #lr = lrs[i]\n",
        "  lr = 0.1 if i < 100000 else 0.01\n",
        "  for p in parameters:\n",
        "    p.data += -lr  * p.grad\n",
        "\n",
        "  # # Track stats\n",
        "  # lri.append(lre[i])\n",
        "  # lossi.append(loss.item())\n",
        "  stepi.append(i)\n",
        "  lossi.append(loss.log10().item())\n",
        "\n",
        "#print(loss.item())"
      ],
      "metadata": {
        "id": "x1B-VB8rXiup"
      },
      "execution_count": null,
      "outputs": []
    },
    {
      "cell_type": "code",
      "source": [
        "plt.plot(stepi, lossi)"
      ],
      "metadata": {
        "colab": {
          "base_uri": "https://localhost:8080/",
          "height": 447
        },
        "id": "ATCkIrSUfemp",
        "outputId": "87a7a90d-d0b1-4864-91d2-658ef604f76e"
      },
      "execution_count": null,
      "outputs": [
        {
          "output_type": "execute_result",
          "data": {
            "text/plain": [
              "[<matplotlib.lines.Line2D at 0x7db85d417f50>]"
            ]
          },
          "metadata": {},
          "execution_count": 666
        },
        {
          "output_type": "display_data",
          "data": {
            "text/plain": [
              "<Figure size 640x480 with 1 Axes>"
            ],
            "image/png": "[encoded data removed]"
          },
          "metadata": {}
        }
      ]
    },
    {
      "cell_type": "code",
      "source": [
        "#plt.plot(lri, lossi)"
      ],
      "metadata": {
        "id": "bZGf_cT8aDWE"
      },
      "execution_count": null,
      "outputs": []
    },
    {
      "cell_type": "code",
      "source": [
        "# Data Splits: Training, Dev/Validation, Test splits\n",
        "# 80%, 10%, 10%\n",
        "# Training Split: 80% - Optimize the parameters of the model\n",
        "# Dev Split: 10% - To optimize/find out the hyperparameters of the model\n",
        "#   1. Learning Rate\n",
        "#   2. Embedding Size\n",
        "#.  3. Regularization\n",
        "# Test Split: Used to evaluate the performance at the end"
      ],
      "metadata": {
        "id": "yC6BNZHKcVMA"
      },
      "execution_count": null,
      "outputs": []
    },
    {
      "cell_type": "code",
      "source": [
        "# Training split\n",
        "emb = C[Xtr]    # (32, 3, 2)\n",
        "embcat = emb.view(-1, 30)\n",
        "h = torch.tanh(embcat @ W1 + b1)\n",
        "logits = h @ W2 + b2\n",
        "loss = F.cross_entropy(logits, Ytr)\n",
        "loss"
      ],
      "metadata": {
        "colab": {
          "base_uri": "https://localhost:8080/"
        },
        "id": "DhDkxUilespe",
        "outputId": "bed9833c-bede-4eae-eebf-8db65e4ab316"
      },
      "execution_count": null,
      "outputs": [
        {
          "output_type": "execute_result",
          "data": {
            "text/plain": [
              "tensor(2.1090, grad_fn=<NllLossBackward0>)"
            ]
          },
          "metadata": {},
          "execution_count": 670
        }
      ]
    },
    {
      "cell_type": "code",
      "source": [
        "# Dev Split\n",
        "emb = C[Xdev]    # (32, 3, 2)\n",
        "embcat = emb.view(-1, 30)\n",
        "h = torch.tanh(embcat @ W1 + b1)\n",
        "logits = h @ W2 + b2\n",
        "loss = F.cross_entropy(logits, Ydev)\n",
        "loss"
      ],
      "metadata": {
        "colab": {
          "base_uri": "https://localhost:8080/"
        },
        "id": "AZ_kcu-3dmCQ",
        "outputId": "8c315716-512b-4591-91f3-6520cc2dd071"
      },
      "execution_count": null,
      "outputs": [
        {
          "output_type": "execute_result",
          "data": {
            "text/plain": [
              "tensor(2.4222, grad_fn=<NllLossBackward0>)"
            ]
          },
          "metadata": {},
          "execution_count": 672
        }
      ]
    },
    {
      "cell_type": "code",
      "source": [
        "# The model is performing better on the training split than the\n",
        "# the unseen dev-split. Signs of over-fitting.\n",
        "\n",
        "# When we are trying to improve the model, check all the hyperparameters and see\n",
        "# if any of them are the problems/causing bottlenecks.\n",
        "# 1. Embedding size (There are close to 2.8 lakh input samples, but we use\n",
        "# a simple 2-D embedding. Maybe we need a higher dimension space to clearly\n",
        "# represent all the 2.8 lakh samples?!)\n",
        "# 2. Learning Rate (just to ensure we don't jump the gun and run over the local minima)\n",
        "# 3. and so on."
      ],
      "metadata": {
        "id": "sM5LoSUrervY"
      },
      "execution_count": null,
      "outputs": []
    },
    {
      "cell_type": "code",
      "source": [
        "plt.figure(figsize=(8, 8))\n",
        "plt.scatter(C[:, 0].data, C[:, 1].data, s=200)\n",
        "for i in range(C.shape[0]):\n",
        "  plt.text(C[i, 0].item(), C[i, 1].item(), itos[i], ha='center', va='center', color='white')\n",
        "plt.grid('minor')"
      ],
      "metadata": {
        "colab": {
          "base_uri": "https://localhost:8080/",
          "height": 696
        },
        "id": "pH3UGVBjglSX",
        "outputId": "f860bd93-5592-45ec-f285-f316f834d430"
      },
      "execution_count": null,
      "outputs": [
        {
          "output_type": "display_data",
          "data": {
            "text/plain": [
              "<Figure size 800x800 with 1 Axes>"
            ],
            "image/png": "[encoded data removed]"
          },
          "metadata": {}
        }
      ]
    },
    {
      "cell_type": "code",
      "source": [
        "# Sampling from the model (Generating characters and word-names)\n",
        "g = torch.Generator().manual_seed(2147483647 + 10)\n",
        "\n",
        "for _ in range(20):\n",
        "  out = []\n",
        "  context = [0] * block_size  # initialize with all\n",
        "\n",
        "  while True:\n",
        "    emb = C[torch.tensor([context])]\n",
        "    embcat = emb.view(1, -1)\n",
        "    h = torch.tanh(embcat @ W1 + b1)\n",
        "    logits = h @ W2 + b2\n",
        "    probs = F.softmax(logits, dim=1)\n",
        "\n",
        "    ix = torch.multinomial(probs, num_samples=1, generator=g).item()\n",
        "    context = context[1:] + [ix]\n",
        "    out.append(ix)\n",
        "    if ix == 0:\n",
        "      break\n",
        "\n",
        "  print(''.join(itos[i] for i in out))"
      ],
      "metadata": {
        "colab": {
          "base_uri": "https://localhost:8080/"
        },
        "id": "V-n_0fs3mDOA",
        "outputId": "ca1a2a91-cfff-475f-f45f-36debb5e4f3b"
      },
      "execution_count": null,
      "outputs": [
        {
          "output_type": "stream",
          "name": "stdout",
          "text": [
            "mora.\n",
            "mayah.\n",
            "see.\n",
            "med.\n",
            "rylla.\n",
            "emman.\n",
            "endra.\n",
            "grace.\n",
            "kaielin.\n",
            "shyanelle.\n",
            "elisananar.\n",
            "kayzion.\n",
            "kalin.\n",
            "shravriah.\n",
            "mie.\n",
            "trinie.\n",
            "jennix.\n",
            "teriff.\n",
            "brence.\n",
            "ryyah.\n"
          ]
        }
      ]
    }
  ]
}