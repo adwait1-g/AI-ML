{
  "nbformat": 4,
  "nbformat_minor": 0,
  "metadata": {
    "colab": {
      "provenance": []
    },
    "kernelspec": {
      "name": "python3",
      "display_name": "Python 3"
    },
    "language_info": {
      "name": "python"
    }
  },
  "cells": [
    {
      "cell_type": "code",
      "execution_count": null,
      "metadata": {
        "id": "8oTGnC2xiUtP"
      },
      "outputs": [],
      "source": [
        "# WaveNet-based Character-level Language Model"
      ]
    },
    {
      "cell_type": "code",
      "source": [
        "import torch\n",
        "import torch.nn.functional as F\n",
        "import matplotlib.pyplot as plt\n",
        "%matplotlib inline"
      ],
      "metadata": {
        "id": "soOxancHjUey"
      },
      "execution_count": null,
      "outputs": []
    },
    {
      "cell_type": "code",
      "source": [
        "# read all the words\n",
        "words = open('names.txt', 'r').read().splitlines()\n",
        "words[:8]"
      ],
      "metadata": {
        "colab": {
          "base_uri": "https://localhost:8080/"
        },
        "id": "-LbUbm76jkzd",
        "outputId": "4799f45d-c06c-4a7c-afeb-c94273db6046"
      },
      "execution_count": null,
      "outputs": [
        {
          "output_type": "execute_result",
          "data": {
            "text/plain": [
              "['emma', 'olivia', 'ava', 'isabella', 'sophia', 'charlotte', 'mia', 'amelia']"
            ]
          },
          "metadata": {},
          "execution_count": 244
        }
      ]
    },
    {
      "cell_type": "code",
      "source": [
        "len(words)"
      ],
      "metadata": {
        "colab": {
          "base_uri": "https://localhost:8080/"
        },
        "id": "wjLpDmhGjmaZ",
        "outputId": "3310346f-91af-40d0-ed40-154fecec65db"
      },
      "execution_count": null,
      "outputs": [
        {
          "output_type": "execute_result",
          "data": {
            "text/plain": [
              "32033"
            ]
          },
          "metadata": {},
          "execution_count": 245
        }
      ]
    },
    {
      "cell_type": "code",
      "source": [
        "# Build the vocabulary of characters and mapping to/from integers\n",
        "chars = sorted(list(set(''.join(words))))\n",
        "stoi = {s:i+1 for i,s in enumerate(chars)}\n",
        "stoi['.'] = 0\n",
        "itos = {i:s for s,i in stoi.items()}\n",
        "vocab_size = len(itos)\n",
        "print(itos)\n",
        "print(vocab_size)"
      ],
      "metadata": {
        "colab": {
          "base_uri": "https://localhost:8080/"
        },
        "id": "u4dPa9Ehjn87",
        "outputId": "736c1706-97a8-41c2-9a09-745941d6686a"
      },
      "execution_count": null,
      "outputs": [
        {
          "output_type": "stream",
          "name": "stdout",
          "text": [
            "{1: 'a', 2: 'b', 3: 'c', 4: 'd', 5: 'e', 6: 'f', 7: 'g', 8: 'h', 9: 'i', 10: 'j', 11: 'k', 12: 'l', 13: 'm', 14: 'n', 15: 'o', 16: 'p', 17: 'q', 18: 'r', 19: 's', 20: 't', 21: 'u', 22: 'v', 23: 'w', 24: 'x', 25: 'y', 26: 'z', 0: '.'}\n",
            "27\n"
          ]
        }
      ]
    },
    {
      "cell_type": "code",
      "source": [
        "# shuffle the words\n",
        "import random\n",
        "random.seed(42)\n",
        "random.shuffle(words)"
      ],
      "metadata": {
        "id": "ccaecFefj7cB"
      },
      "execution_count": null,
      "outputs": []
    },
    {
      "cell_type": "code",
      "source": [
        "# Build the dataset\n",
        "#block_size = 3 # context length: how many preceding characters to be part of the context?\n",
        "block_size = 8 # from WaveNet paper\n",
        "def build_dataset(words):\n",
        "    X, Y = [], []\n",
        "\n",
        "    for w in words:\n",
        "      context = [0] * block_size\n",
        "      for ch in w + '.':\n",
        "        ix = stoi[ch]\n",
        "        X.append(context)\n",
        "        Y.append(ix)\n",
        "        context = context[1:] + [ix]\n",
        "\n",
        "    X = torch.tensor(X)\n",
        "    Y = torch.tensor(Y)\n",
        "    print(X.shape, Y.shape)\n",
        "    return X, Y\n",
        "\n",
        "import random\n",
        "random.seed(42)\n",
        "random.shuffle(words)\n",
        "n1 = int(0.8*len(words))\n",
        "n2 = int(0.9*len(words))\n",
        "\n",
        "Xtr, Ytr = build_dataset(words[:n1])      # 80% in Training Split\n",
        "Xdev, Ydev = build_dataset(words[n1:n2])  # 10% in Dev Split\n",
        "Xte, Yte = build_dataset(words[n2:])      # 10% in Test Split"
      ],
      "metadata": {
        "colab": {
          "base_uri": "https://localhost:8080/"
        },
        "id": "c9Gwdrkfj_k3",
        "outputId": "e521689b-352d-484e-f681-22700247072d"
      },
      "execution_count": null,
      "outputs": [
        {
          "output_type": "stream",
          "name": "stdout",
          "text": [
            "torch.Size([182580, 8]) torch.Size([182580])\n",
            "torch.Size([22767, 8]) torch.Size([22767])\n",
            "torch.Size([22799, 8]) torch.Size([22799])\n"
          ]
        }
      ]
    },
    {
      "cell_type": "code",
      "source": [
        "for x,y in zip(Xtr[:20], Ytr[:20]):\n",
        "    print(''.join(itos[ix.item()] for ix in x), '---->', itos[y.item()])"
      ],
      "metadata": {
        "colab": {
          "base_uri": "https://localhost:8080/"
        },
        "id": "_vM3xwaskP9v",
        "outputId": "123f77d1-e41c-4bd1-cc4c-00e898a4c254"
      },
      "execution_count": null,
      "outputs": [
        {
          "output_type": "stream",
          "name": "stdout",
          "text": [
            "........ ----> e\n",
            ".......e ----> b\n",
            "......eb ----> r\n",
            ".....ebr ----> i\n",
            "....ebri ----> m\n",
            "...ebrim ----> a\n",
            "..ebrima ----> .\n",
            "........ ----> h\n",
            ".......h ----> i\n",
            "......hi ----> l\n",
            ".....hil ----> t\n",
            "....hilt ----> o\n",
            "...hilto ----> n\n",
            "..hilton ----> .\n",
            "........ ----> j\n",
            ".......j ----> h\n",
            "......jh ----> e\n",
            ".....jhe ----> n\n",
            "....jhen ----> e\n",
            "...jhene ----> .\n"
          ]
        }
      ]
    },
    {
      "cell_type": "code",
      "source": [
        "# Linear Layer\n",
        "# PyTorch Linear Layers doc: https://pytorch.org/docs/stable/nn.html#linear-layers\n",
        "class Linear:\n",
        "  def __init__(self, fan_in, fan_out, bias=True):\n",
        "    self.weight = torch.randn((fan_in, fan_out)) / (fan_in**0.5)\n",
        "    self.bias = torch.zeros(fan_out) if bias else None\n",
        "\n",
        "  def __call__(self, x):\n",
        "    self.out = x @ self.weight\n",
        "    if self.bias is not None:\n",
        "      self.out += self.bias\n",
        "    return self.out\n",
        "\n",
        "  def parameters(self):\n",
        "    return [self.weight] + ([] if self.bias is None else [self.bias])\n",
        "#===============================================================================\n",
        "# BatchNorm layer\n",
        "class BatchNorm1d:\n",
        "  def __init__(self, dim, eps=1e-5, momentum=0.1):\n",
        "    self.eps = eps\n",
        "    self.momentum = momentum\n",
        "    self.training = True\n",
        "\n",
        "    # Parameters trained using backprop\n",
        "    self.gamma = torch.ones(dim)\n",
        "    self.beta = torch.zeros(dim)\n",
        "\n",
        "    # Buffers (running mean and std-dev)\n",
        "    self.running_mean = torch.zeros(dim)\n",
        "    self.running_var = torch.ones(dim)\n",
        "\n",
        "  def __call__(self, x):\n",
        "    # Calculate the forward pass\n",
        "    if self.training:\n",
        "      if x.ndim == 2:\n",
        "        dim = 0\n",
        "      elif x.ndim == 3:\n",
        "        dim = (0, 1)\n",
        "      xmean = x.mean(dim , keepdim=True) # Batch Mean\n",
        "      xvar = x.var(dim, keepdim=True) # Batch variance\n",
        "    else:\n",
        "      xmean = self.running_mean\n",
        "      xvar = self.running_var\n",
        "\n",
        "    xhat = (x - xmean) / torch.sqrt(xvar + self.eps) # Normalize to unit variance\n",
        "    self.out = self.gamma * xhat + self.beta\n",
        "\n",
        "    # Update the running buffers\n",
        "    if self.training:\n",
        "      with torch.no_grad():\n",
        "        self.running_mean = (1 - self.momentum) * self.running_mean + self.momentum * xmean\n",
        "        self.running_var = (1 - self.momentum) * self.running_var + self.momentum * xvar\n",
        "    return self.out\n",
        "\n",
        "  def parameters(self):\n",
        "    return [self.gamma, self.beta]\n",
        "\n",
        "#===============================================================================\n",
        "\n",
        "class Tanh:\n",
        "  def __call__(self, x):\n",
        "    self.out = torch.tanh(x)\n",
        "    return self.out\n",
        "\n",
        "  def parameters(self):\n",
        "    return []\n",
        "\n",
        "#===============================================================================\n",
        "\n",
        "class Embedding:\n",
        "  def __init__(self, num_embeddings, embedding_dim):\n",
        "    self.weight = torch.randn((num_embeddings, embedding_dim))\n",
        "\n",
        "  def __call__(self, IX):\n",
        "    self.out = self.weight[IX]\n",
        "    return self.out\n",
        "\n",
        "  def parameters(self):\n",
        "    return [self.weight]\n",
        "\n",
        "#===============================================================================\n",
        "\n",
        "class FlattenConsecutive:\n",
        "  def __init__(self, n):\n",
        "    self.n = n  # No. of consecutive elements to be flattened\n",
        "  def __call__(self, x):    # (4, 8, 10) -> (4, 4, 20), n = 2.\n",
        "    B, T, C = x.shape\n",
        "    x = x.view(B, T//self.n, C*self.n)\n",
        "    if x.shape[1] == 1:   # If the first dimension is just 1 in length, then take it out.\n",
        "      x = x.squeeze(1)    # After combining enough number of times, the middle\n",
        "                          # dimension T//self.n will turn out to be 1. Eg:\n",
        "                          # (4, 8, 10) -> (4, 4, 20) -> (4, 2, 40) -> (4, 1, 80)\n",
        "                          # Instead of having a (4, 1, 80), the squeeze will\n",
        "                          # remove that '1' dimension and gives (4, 80)\n",
        "                          # Squeezing the 1st dimension (squeeze(1))\n",
        "    self.out = x\n",
        "    return self.out\n",
        "\n",
        "  def parameters(self):\n",
        "    return []\n",
        "\n",
        "#===============================================================================\n",
        "\n",
        "class Sequential:\n",
        "\n",
        "  def __init__(self, layers):\n",
        "    self.layers = layers\n",
        "\n",
        "  def __call__(self, x):\n",
        "    for layer in self.layers:\n",
        "      x = layer(x)\n",
        "    self.out = x\n",
        "    return self.out\n",
        "\n",
        "  def parameters(self):\n",
        "    # Get parameters of all layers and stretch them out into one single list\n",
        "    return [p for layer in self.layers for p in layer.parameters()]"
      ],
      "metadata": {
        "id": "XgZ2JhGbkgLz"
      },
      "execution_count": null,
      "outputs": []
    },
    {
      "cell_type": "code",
      "source": [
        "torch.manual_seed(42)   # Seed rng for reproducibility"
      ],
      "metadata": {
        "colab": {
          "base_uri": "https://localhost:8080/"
        },
        "id": "zOB7nvRRl0QG",
        "outputId": "46608667-3d7e-4c45-aeff-dc73751c3557"
      },
      "execution_count": null,
      "outputs": [
        {
          "output_type": "execute_result",
          "data": {
            "text/plain": [
              "<torch._C.Generator at 0x79a1ad176b30>"
            ]
          },
          "metadata": {},
          "execution_count": 251
        }
      ]
    },
    {
      "cell_type": "code",
      "source": [
        "n_embd = 24     # Dimensionality of the character embedding vector\n",
        "n_hidden = 128  # Number of neurons in the hidden layer of the MLP\n",
        "                  # Similar to the previous MLP model.\n",
        "\n",
        "\n",
        "model = Sequential([\n",
        "    Embedding(vocab_size, n_embd),\n",
        "    FlattenConsecutive(2), Linear(n_embd * 2, n_hidden, bias=False), BatchNorm1d(n_hidden), Tanh(),\n",
        "    FlattenConsecutive(2), Linear(n_hidden * 2, n_hidden, bias=False), BatchNorm1d(n_hidden), Tanh(),\n",
        "    FlattenConsecutive(2), Linear(n_hidden * 2, n_hidden, bias=False), BatchNorm1d(n_hidden), Tanh(),\n",
        "    Linear(n_hidden, vocab_size),\n",
        "])\n",
        "\n",
        "# Kaiming He's Init\n",
        "with torch.no_grad():\n",
        "  # Last Layer: Make it less confident so that we are not\n",
        "  # confidently wrong at initialization (Remember the loss being\n",
        "  # 27.smth and coming down to 2.smh in 10k-20k iterations.\n",
        "  # To save these 10+k iterations and use it on actual learning instead\n",
        "  # of squashing output layer's random weights, we squash it here itself,\n",
        "  # by multiplying it with 0.1)\n",
        "  model.layers[-1].weight *= 0.1\n",
        "\n",
        "parameters = model.parameters()\n",
        "print(sum(p.nelement() for p in parameters))  # Total no. of parameters\n",
        "for p in parameters:\n",
        "  p.requires_grad = True"
      ],
      "metadata": {
        "colab": {
          "base_uri": "https://localhost:8080/"
        },
        "id": "QPX8jQZQliWE",
        "outputId": "e6c6f628-7fe6-4083-d7b0-0c2ec3a8e6d9"
      },
      "execution_count": null,
      "outputs": [
        {
          "output_type": "stream",
          "name": "stdout",
          "text": [
            "76579\n"
          ]
        }
      ]
    },
    {
      "cell_type": "code",
      "source": [
        "ix = torch.randint(0, Xtr.shape[0], (4,)) # 4 examples\n",
        "Xb, Yb = Xtr[ix], Ytr[ix]\n",
        "print(Xb.shape, Yb.shape)\n",
        "logits = model(Xb)\n",
        "print(Xb.shape)\n",
        "Xb\n",
        "# Xb.shape = torch.Size([4, 8])"
      ],
      "metadata": {
        "id": "50bidUzZKEVt",
        "colab": {
          "base_uri": "https://localhost:8080/"
        },
        "outputId": "d551d728-41c7-43c6-da77-fe48bf3e2262"
      },
      "execution_count": null,
      "outputs": [
        {
          "output_type": "stream",
          "name": "stdout",
          "text": [
            "torch.Size([4, 8]) torch.Size([4])\n",
            "torch.Size([4, 8])\n"
          ]
        },
        {
          "output_type": "execute_result",
          "data": {
            "text/plain": [
              "tensor([[ 0,  0,  0,  0,  0,  0,  0,  1],\n",
              "        [ 0,  0,  4,  5,  2, 15, 18,  1],\n",
              "        [ 0,  0,  0,  0,  0,  0,  0,  0],\n",
              "        [ 0,  0,  0,  0,  0,  0,  0,  0]])"
            ]
          },
          "metadata": {},
          "execution_count": 253
        }
      ]
    },
    {
      "cell_type": "code",
      "source": [
        "for layer in model.layers:\n",
        "  print(layer.__class__.__name__, ':', tuple(layer.out.shape))"
      ],
      "metadata": {
        "colab": {
          "base_uri": "https://localhost:8080/"
        },
        "id": "m-dK286sRN5X",
        "outputId": "d62be1a1-410e-4e49-9526-a65894aae045"
      },
      "execution_count": null,
      "outputs": [
        {
          "output_type": "stream",
          "name": "stdout",
          "text": [
            "Embedding : (4, 8, 24)\n",
            "FlattenConsecutive : (4, 4, 48)\n",
            "Linear : (4, 4, 128)\n",
            "BatchNorm1d : (4, 4, 128)\n",
            "Tanh : (4, 4, 128)\n",
            "FlattenConsecutive : (4, 2, 256)\n",
            "Linear : (4, 2, 128)\n",
            "BatchNorm1d : (4, 2, 128)\n",
            "Tanh : (4, 2, 128)\n",
            "FlattenConsecutive : (4, 256)\n",
            "Linear : (4, 128)\n",
            "BatchNorm1d : (4, 128)\n",
            "Tanh : (4, 128)\n",
            "Linear : (4, 27)\n"
          ]
        }
      ]
    },
    {
      "cell_type": "code",
      "source": [
        "e = torch.randn(32, 4, 68)                  # (32, 4, 68)\n",
        "emean = e.mean((0, 1), keepdim=True)             # ( 1, 1, 68)\n",
        "evar = e.var(0, keepdim=True)               # ( 1, 1, 68)\n",
        "ehat = (e - emean)/ torch.sqrt(evar + 1e-5) # (32, 4, 68)\n",
        "ehat.shape"
      ],
      "metadata": {
        "colab": {
          "base_uri": "https://localhost:8080/"
        },
        "id": "mOww9kohDcYJ",
        "outputId": "20c06a45-780e-4acb-f167-5206da635efd"
      },
      "execution_count": null,
      "outputs": [
        {
          "output_type": "execute_result",
          "data": {
            "text/plain": [
              "torch.Size([32, 4, 68])"
            ]
          },
          "metadata": {},
          "execution_count": 255
        }
      ]
    },
    {
      "cell_type": "code",
      "source": [
        "model.layers[3].running_mean.shape"
      ],
      "metadata": {
        "colab": {
          "base_uri": "https://localhost:8080/"
        },
        "id": "jB61qpT5D3a1",
        "outputId": "da83337c-bab5-4100-d9d5-c60c48187069"
      },
      "execution_count": null,
      "outputs": [
        {
          "output_type": "execute_result",
          "data": {
            "text/plain": [
              "torch.Size([1, 1, 128])"
            ]
          },
          "metadata": {},
          "execution_count": 256
        }
      ]
    },
    {
      "cell_type": "code",
      "source": [
        "# Model Construction Done.\n",
        "# Optimization (Forward Pass, Backward Pass, Update)\n",
        "max_steps = 200000\n",
        "batch_size = 32\n",
        "lossi = []\n",
        "\n",
        "for i in range(max_steps):\n",
        "\n",
        "  # Minibatch construct\n",
        "  ix = torch.randint(0, Xtr.shape[0], (batch_size,))\n",
        "  Xb, Yb = Xtr[ix], Ytr[ix] # Batch X, Y\n",
        "\n",
        "  # Forward Pass\n",
        "  logits = model(Xb)\n",
        "  loss = F.cross_entropy(logits, Yb)   # Loss function\n",
        "\n",
        "  for p in parameters:\n",
        "    p.grad = None\n",
        "  loss.backward()\n",
        "\n",
        "  # Update\n",
        "  lr = 0.1 if i < 100000 else 0.01    # Step learning rate decay\n",
        "  for p in parameters:\n",
        "    p.data += -lr * p.grad\n",
        "\n",
        "  # Track statistics\n",
        "  if i % 10000 == 0:\n",
        "    print(f'{i:7d}/{max_steps:7d}: {loss.item():.4f}')\n",
        "  lossi.append(loss.log10().item())"
      ],
      "metadata": {
        "id": "n4gb_fNqmpBv",
        "colab": {
          "base_uri": "https://localhost:8080/"
        },
        "outputId": "cffb73c3-b8df-4e2c-d830-3f1eb4b49455"
      },
      "execution_count": null,
      "outputs": [
        {
          "output_type": "stream",
          "name": "stdout",
          "text": [
            "      0/ 200000: 3.3203\n",
            "  10000/ 200000: 1.9221\n",
            "  20000/ 200000: 2.2397\n",
            "  30000/ 200000: 2.3006\n",
            "  40000/ 200000: 1.5550\n",
            "  50000/ 200000: 2.1635\n",
            "  60000/ 200000: 2.2097\n",
            "  70000/ 200000: 1.8215\n",
            "  80000/ 200000: 1.9500\n",
            "  90000/ 200000: 1.8097\n",
            " 100000/ 200000: 1.8010\n",
            " 110000/ 200000: 1.7620\n",
            " 120000/ 200000: 1.7861\n",
            " 130000/ 200000: 1.4939\n",
            " 140000/ 200000: 1.8820\n",
            " 150000/ 200000: 1.6666\n",
            " 160000/ 200000: 1.6456\n",
            " 170000/ 200000: 2.0683\n",
            " 180000/ 200000: 1.9526\n",
            " 190000/ 200000: 1.9720\n"
          ]
        }
      ]
    },
    {
      "cell_type": "code",
      "source": [
        "plt.plot(lossi)"
      ],
      "metadata": {
        "id": "nu1pD6Ium8MG",
        "colab": {
          "base_uri": "https://localhost:8080/",
          "height": 447
        },
        "outputId": "5092f8d0-a8b4-4296-d7ad-ddcc2e7c4cde"
      },
      "execution_count": null,
      "outputs": [
        {
          "output_type": "execute_result",
          "data": {
            "text/plain": [
              "[<matplotlib.lines.Line2D at 0x79a0eb784750>]"
            ]
          },
          "metadata": {},
          "execution_count": 258
        },
        {
          "output_type": "display_data",
          "data": {
            "text/plain": [
              "<Figure size 640x480 with 1 Axes>"
            ],
            "image/png": "[encoded data removed]"
          },
          "metadata": {}
        }
      ]
    },
    {
      "cell_type": "code",
      "source": [
        "# The above graph is simply the plot of 200,000 loss values, one for each\n",
        "# iteration. Instead, better to take 1000 loss values at once, find their mean\n",
        "# and plot all the means.\n",
        "\n",
        "plt.plot(torch.tensor(lossi).view(-1, 1000).mean(1))"
      ],
      "metadata": {
        "id": "-Tu0tMOBpL7T",
        "colab": {
          "base_uri": "https://localhost:8080/",
          "height": 447
        },
        "outputId": "9bf0da49-58be-44c0-9f9b-6f0929991578"
      },
      "execution_count": null,
      "outputs": [
        {
          "output_type": "execute_result",
          "data": {
            "text/plain": [
              "[<matplotlib.lines.Line2D at 0x79a0eb352110>]"
            ]
          },
          "metadata": {},
          "execution_count": 259
        },
        {
          "output_type": "display_data",
          "data": {
            "text/plain": [
              "<Figure size 640x480 with 1 Axes>"
            ],
            "image/png": "[encoded data removed]"
          },
          "metadata": {}
        }
      ]
    },
    {
      "cell_type": "code",
      "source": [
        "# Put layers into evaluation mode (needed for batchnorm)\n",
        "for layer in model.layers:\n",
        "  layer.training = False"
      ],
      "metadata": {
        "id": "Xuhmwt17m-o0"
      },
      "execution_count": null,
      "outputs": []
    },
    {
      "cell_type": "code",
      "source": [
        "@torch.no_grad()    # This decorator disables gradient tracking\n",
        "\n",
        "def split_loss(split):\n",
        "  x,y = {\n",
        "      'train': (Xtr, Ytr),\n",
        "      'val': (Xdev, Ydev),\n",
        "      'test': (Xte, Yte),\n",
        "  }[split]\n",
        "  logits = model(x)\n",
        "  loss = F.cross_entropy(logits, y)\n",
        "  print(split, loss.item())\n",
        "\n",
        "split_loss('train')\n",
        "split_loss('val')"
      ],
      "metadata": {
        "id": "10LIejlcnFJq",
        "colab": {
          "base_uri": "https://localhost:8080/"
        },
        "outputId": "9e1d587a-4482-4f94-fba6-c426f03d5ebf"
      },
      "execution_count": null,
      "outputs": [
        {
          "output_type": "stream",
          "name": "stdout",
          "text": [
            "train 1.7850083112716675\n",
            "val 1.9961260557174683\n"
          ]
        }
      ]
    },
    {
      "cell_type": "code",
      "source": [
        "# 1. Performance with block_size = 3 (Basic MLP model from lecture 4)\n",
        "# # train 2.06659197807312\n",
        "# val 2.1050572395324707\n",
        "#\n",
        "# Performance with just block_size = 8\n",
        "# train 1.9307096004486084\n",
        "# val 2.0324578285217285\n",
        "#\n",
        "# With block_size = 16\n",
        "# train 1.9233500957489014\n",
        "# val 2.026993989944458\n",
        "#\n",
        "# With the WaveNet model, but with n_hidden = 68 (instead of 200)\n",
        "# train 1.951379418373108\n",
        "# val 2.034548759460449\n",
        "#\n",
        "# BatchNorm bug resolved,\n",
        "# train 1.923056960105896\n",
        "# val 2.0267248153686523\n",
        "#\n",
        "#\n",
        "#\n",
        "# Just increasing the context improve the model."
      ],
      "metadata": {
        "id": "ivCiOrlEH758"
      },
      "execution_count": null,
      "outputs": []
    },
    {
      "cell_type": "code",
      "source": [
        "for _ in range(20):\n",
        "\n",
        "  out = []\n",
        "  context = [0] * block_size    # Initialize with all\n",
        "  while True:\n",
        "    # Forward pass the neural network\n",
        "    logits = model(torch.tensor([context]))\n",
        "    probs = F.softmax(logits, dim=1)\n",
        "\n",
        "    # Sample from the distribution\n",
        "    ix = torch.multinomial(probs, num_samples=1).item()\n",
        "    # Shift the context window and track samples\n",
        "    context = context[1:] + [ix]\n",
        "    out.append(ix)\n",
        "\n",
        "    # If we get/sample a '.', that is the end of the word, we break\n",
        "    if ix == 0:\n",
        "      break\n",
        "\n",
        "  print(''.join(itos[i] for i in out)) # Decode and print generated words"
      ],
      "metadata": {
        "id": "DmmM-6TsnPZI",
        "colab": {
          "base_uri": "https://localhost:8080/"
        },
        "outputId": "74df65f3-bb27-48f6-f6d5-c49c01f2d1ab"
      },
      "execution_count": null,
      "outputs": [
        {
          "output_type": "stream",
          "name": "stdout",
          "text": [
            "sameeb.\n",
            "crucklin.\n",
            "amania.\n",
            "shane.\n",
            "zaelyn.\n",
            "crisper.\n",
            "christianni.\n",
            "kissah.\n",
            "jacion.\n",
            "anthonya.\n",
            "merre.\n",
            "hadah.\n",
            "albasia.\n",
            "knkeemi.\n",
            "bentzen.\n",
            "braddynn.\n",
            "loven.\n",
            "aviyana.\n",
            "cymia.\n",
            "yitzavik.\n"
          ]
        }
      ]
    }
  ]
}